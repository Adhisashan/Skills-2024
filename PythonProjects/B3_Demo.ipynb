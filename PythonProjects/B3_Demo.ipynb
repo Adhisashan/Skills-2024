{
 "cells": [
  {
   "cell_type": "code",
   "execution_count": 1,
   "metadata": {},
   "outputs": [
    {
     "name": "stdout",
     "output_type": "stream",
     "text": [
      "Your age is :  32\n",
      "Your year of birth is :  1992\n",
      "<class 'int'>\n",
      "Name 1 :  Beaulah\n",
      "Name 2 :  Beryl\n",
      "Name 3 :  Emima\n"
     ]
    }
   ],
   "source": [
    "Age = int(input(\"Enter your age\"))\n",
    "print(\"Your age is : \",Age)\n",
    "print(\"Your year of birth is : \",(2024-Age))\n",
    "print(type(Age))\n",
    "\n",
    "# Multiple inputs in Single line\n",
    "Name1, Name2, Name3 = input(\"Enter 3 Names :\").split(';')\n",
    "print(\"Name 1 : \",Name1)\n",
    "print(\"Name 2 : \",Name2)\n",
    "print(\"Name 3 : \",Name3)"
   ]
  },
  {
   "cell_type": "code",
   "execution_count": 2,
   "metadata": {},
   "outputs": [
    {
     "name": "stdout",
     "output_type": "stream",
     "text": [
      "Enter a Para : \n",
      "['yaweh', 'rubha', 'elohim', 'elsadai', 'yerieh', 'adonai']\n",
      "yaweh\n",
      "rubha\n",
      "elohim\n",
      "elsadai\n",
      "yerieh\n",
      "adonai\n"
     ]
    }
   ],
   "source": [
    "# Multi line input\n",
    "para=[]\n",
    "print(\"Enter a Para : \")\n",
    "\n",
    "while True:\n",
    "  line=input()\n",
    "  if line:\n",
    "    para.append(line)\n",
    "  else:\n",
    "    break\n",
    "print(para)\n",
    "# join method\n",
    "output='\\n'.join(para)\n",
    "print(output)"
   ]
  }
 ],
 "metadata": {
  "kernelspec": {
   "display_name": "Python 3",
   "language": "python",
   "name": "python3"
  },
  "language_info": {
   "codemirror_mode": {
    "name": "ipython",
    "version": 3
   },
   "file_extension": ".py",
   "mimetype": "text/x-python",
   "name": "python",
   "nbconvert_exporter": "python",
   "pygments_lexer": "ipython3",
   "version": "3.7.8"
  }
 },
 "nbformat": 4,
 "nbformat_minor": 2
}
