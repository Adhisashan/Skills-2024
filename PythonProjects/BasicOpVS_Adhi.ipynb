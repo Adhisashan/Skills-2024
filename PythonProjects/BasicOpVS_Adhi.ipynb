{
 "cells": [
  {
   "cell_type": "code",
   "execution_count": null,
   "metadata": {},
   "outputs": [],
   "source": [
    "a=5\n",
    "b=80\n",
    "c=a+b\n",
    "print(\"Value of c:\",c , \"Value of a:\", a, \"value of b:\", b)"
   ]
  },
  {
   "cell_type": "code",
   "execution_count": null,
   "metadata": {},
   "outputs": [],
   "source": [
    "dd=5\n",
    "d=9\n",
    "d_mul = dd*d\n",
    "print(d_mul)"
   ]
  },
  {
   "cell_type": "code",
   "execution_count": null,
   "metadata": {},
   "outputs": [],
   "source": [
    "a = float(input(\"Enter value a\"))\n",
    "b = float(input(\"Enter value b\"))\n",
    "c=a+b\n",
    "print(c)\n"
   ]
  },
  {
   "cell_type": "code",
   "execution_count": null,
   "metadata": {},
   "outputs": [],
   "source": [
    "a = int(input(\"Enter the value of a: \"))\n",
    "b = int(input(\"Enter the value of b: \"))\n",
    "sum = a+b\n",
    "diff = a-b\n",
    "mul = a*b\n",
    "div = a/b\n",
    "power=a**3\n",
    "print(\"Sum: \",sum, \"Diff: \", diff, \"Mul: \", mul, \"Div: \", div, 'Power: ', power)\n",
    "print(\"Sum:{0}, Diff:{1}, Mul:{2}, Div:{3}\".format(sum,diff,mul,div))\n",
    "print(\"Sum:%d, Mul:%d, div:%25.5f\"%(sum,mul,div))\n",
    "print(\"Sum:{0:<4} || Diff:{1:<4} || Mul:{2:<4} || Div:{3:<4}\".format(\"Sum\",\"Diff\",\"Mul\",\"Div\"))\n",
    "print(\"Sum:{0:<4} || Diff:{1:<4} || Mul:{2:<4} || Div:{3:>4}\".format(sum,diff,mul,div))"
   ]
  },
  {
   "cell_type": "code",
   "execution_count": null,
   "metadata": {},
   "outputs": [],
   "source": [
    "a = \"Python\"\n",
    "b=\"variable\"\n",
    "c=a*2\n",
    "d=a+b\n",
    "print(\"d------\",d)\n",
    "print(\"Length of a:\",len(a),\" Length of b:\", len(b)) # In JAVA, d.length()\n",
    "print(c)\n",
    "print(d[4])\n",
    "print(d[4:])\n",
    "print(d[:4])\n",
    "print(d[-1])\n",
    "print(d[:-1])\n",
    "print(d[::2])\n",
    "print(d[::-1])\n",
    "print(\"Upper Case: \",d.upper(), \"Lower Case: \", d.lower())"
   ]
  },
  {
   "cell_type": "code",
   "execution_count": null,
   "metadata": {},
   "outputs": [],
   "source": [
    "a=\"String Function\"\n",
    "b=a.split()\n",
    "print(b)\n",
    "print(\"Type:::::::::::::\",type(b))\n",
    "print(b[0])\n",
    "c=\"Adhi,Ramesh,Balan,Ameer\"\n",
    "d=c.split(\",\")\n",
    "print(d)"
   ]
  },
  {
   "cell_type": "code",
   "execution_count": null,
   "metadata": {},
   "outputs": [],
   "source": [
    "#List\n",
    "a=[2,33333, 4,6,8,10]\n",
    "b=[\"one\", 2, \"3\", 44.4]\n",
    "temp=[\"ab\",\"cd\",\"zz\",\"kk\",\"run\", \"go\"]\n",
    "temp.sort()\n",
    "print(temp)\n",
    "print(a,b)\n",
    "print(\"Length of a:\",len(a),\" Length of b:\", len(b))\n",
    "print(b[0])\n",
    "print(a[1:])\n",
    "print(a[:3])\n",
    "ab = a+b\n",
    "print(ab)\n",
    "a.append(12)\n",
    "a.append(22)\n",
    "a.append(32)\n",
    "print(a, \"Length of a: \",len(a))\n",
    "a.remove(4) # Based on value\n",
    "a.pop(5) # Based on Index\n",
    "print(a, \"Length of a: \",len(a))\n",
    "ab.reverse() # Descending\n",
    "print(\"Reverse::::-\", ab)\n",
    "a.sort() # Ascending\n",
    "print(a)\n",
    "print(\"Min:\",min(a), \" Max:\", max(a))\n",
    "from random import shuffle # From FileName import ClassName\n",
    "shuffle(a)\n",
    "print(a)"
   ]
  },
  {
   "cell_type": "code",
   "execution_count": null,
   "metadata": {},
   "outputs": [],
   "source": [
    "#List\n",
    "a=[1,2,3]\n",
    "b=[\"one\",\"two\",\"three\"]\n",
    "c=[a,b] # Nested List\n",
    "print(c)\n",
    "print(c[0])\n",
    "print(c[1][1])\n"
   ]
  },
  {
   "cell_type": "code",
   "execution_count": null,
   "metadata": {},
   "outputs": [],
   "source": [
    "# Dictionary -> Key & Value\n",
    "a={\"Name\":\"Adhi\",\"Age\":\"31\", \"Company\":[\"MyLogIQ\",\"SECI\"]}\n",
    "print(a)\n",
    "print(len(a))\n",
    "print(a[\"Name\"],\"--------\",a[\"Company\"][0])\n",
    "a[\"Age\"]=18\n",
    "print(a)\n",
    "b={\"Climate\":{\"Condition\":{\"Temp\":\"40 degree\", \"Humidity\":\"0%\"}}} # Nested Conditions\n",
    "print(b[\"Climate\"][\"Condition\"][\"Humidity\"])\n",
    "print(a.__contains__(\"Name\")) # Returns boolean value\n",
    "print(a.keys())\n",
    "print(a.values())\n",
    "print(a.items()) # Print Tuples of a dictionary\n"
   ]
  },
  {
   "cell_type": "code",
   "execution_count": null,
   "metadata": {},
   "outputs": [],
   "source": [
    "# Tuples\n",
    "a=(\"one\", 2, \"3\", 44.4)\n",
    "print(a)\n",
    "print(len(a))\n",
    "print(a[0])\n",
    "print(a.index(\"3\"))\n"
   ]
  },
  {
   "cell_type": "code",
   "execution_count": null,
   "metadata": {},
   "outputs": [],
   "source": [
    "#Set\n",
    "a=set()\n",
    "a.add(\"1\")\n",
    "a.add(2)\n",
    "print(a, \"\\tLength:\", len(a))\n",
    "# print(a[0]) # Can't get element\n",
    "# print(a.index(\"1\")) # Can't get index of element\n",
    "b=[1,5,1,\"Adhi\"]\n",
    "c=set(b)\n",
    "print(\"List:\",b, \"Set:\",c)\n"
   ]
  },
  {
   "cell_type": "code",
   "execution_count": null,
   "metadata": {},
   "outputs": [],
   "source": [
    "# Boolean\n",
    "a= 21\n",
    "b= 44\n",
    "c= 12\n",
    "print(a==b, a<b, a>b, a!=b)\n",
    "print(a<b & a<c, a<b and a<c)\n",
    "print(a<b | a>c, a<b or a>c)"
   ]
  },
  {
   "cell_type": "code",
   "execution_count": null,
   "metadata": {},
   "outputs": [],
   "source": [
    "# Condition statements\n",
    "a= True\n",
    "if a:\n",
    " print(\"Positive\") # Need to indent - In java we used {}    \n",
    "else:\n",
    " print(\"Negative\")\n",
    "\n",
    "\n",
    " a= 10 \n",
    " b= 20 \n",
    " c=15\n",
    "if (a<b):\n",
    "  print(\"a < b\")\n",
    "  if (c<b):\n",
    "    print(\"Nested if : c<b\")\n",
    "elif(b>c): # In java we used else if\n",
    "  print(\"b > c\")\n",
    "  if (c>a):\n",
    "    print(\"Nested if : c>a\")\n",
    "else:\n",
    " print(\"a > b\")  \n",
    "\n"
   ]
  },
  {
   "cell_type": "code",
   "execution_count": null,
   "metadata": {},
   "outputs": [],
   "source": [
    "# Loop\n",
    "a = [1,2,3,4,5,6,7,8,9]\n",
    "for i in a: # In Java, for(int i= 0; i < condition; i++)\n",
    "    print(i)\n",
    "\n",
    "b= [x for x in \"Operations\"]\n",
    "print(b)\n",
    "\n",
    "bb =[]\n",
    "for x in \"String Split using for\":\n",
    " bb.append(x)\n",
    "print(bb)\n",
    "\n",
    "for i in a:\n",
    "    if (i%2==0):\n",
    "        print(i, \" is an Even number\")\n",
    "    else:\n",
    "        print(i, \" is an odd number\")\n",
    "b= \"String split\"\n",
    "for i in b:\n",
    "    print(i)\n",
    "a={\"Name\":\"Adhi\",\"Age\":\"31\", \"Company\":[\"MyLogIQ\",\"SECI\"]}\n",
    "for key,value in a.items():\n",
    " print(\"Key::::\", key , \"\\tValue::::\", value)"
   ]
  },
  {
   "cell_type": "code",
   "execution_count": null,
   "metadata": {},
   "outputs": [],
   "source": [
    "a=0\n",
    "while (a<10):\n",
    "    print(a)\n",
    "    a+=1\n",
    "    if a==4:\n",
    "     print(\"Break\")\n",
    "     break\n",
    "    else:\n",
    "       print(\"Continue\")\n",
    "       continue\n",
    "    "
   ]
  },
  {
   "cell_type": "code",
   "execution_count": null,
   "metadata": {},
   "outputs": [],
   "source": [
    "# Range\n",
    "for a in range(10):\n",
    " print(a)\n",
    "print(\"---------------------\") \n",
    "for a in range (1,10,2): # Increment\n",
    " print(a)\n",
    "print(\"#####################\") \n",
    "for a in range (10,0,-2): # Decrement\n",
    " print(a)\n",
    "a= [i**2 for i in range(0,10)] \n",
    "print(a)\n",
    "a= [i for i in range(0,10) if i%2==0] \n",
    "print(a)"
   ]
  },
  {
   "cell_type": "code",
   "execution_count": null,
   "metadata": {},
   "outputs": [],
   "source": [
    "# Enumerate -> To get the iteration count in for loop without using variable increment\n",
    "b= \"String split\"\n",
    "# inc =0\n",
    "# for i in b:\n",
    "#     inc+=1\n",
    "#     print(inc, \"\\t\",i)\n",
    "\n",
    "for inc, i in enumerate(b):\n",
    "    print(inc, \"\\t\",i)\n"
   ]
  },
  {
   "cell_type": "code",
   "execution_count": 34,
   "metadata": {},
   "outputs": [
    {
     "name": "stdout",
     "output_type": "stream",
     "text": [
      "[('Name', 'Adhisashan'), ('Age', '31'), ('Company', 'MyLogiQ')]\n"
     ]
    }
   ],
   "source": [
    "# Creating a tuples by zipping 2 list\n",
    "a = [\"Name\",\"Age\",\"Company\"]\n",
    "b= [\"Adhisashan\",\"31\",\"MyLogiQ\"]\n",
    "c= list(zip(a,b))\n",
    "print(c)\n"
   ]
  }
 ],
 "metadata": {
  "kernelspec": {
   "display_name": "Python 3",
   "language": "python",
   "name": "python3"
  },
  "language_info": {
   "codemirror_mode": {
    "name": "ipython",
    "version": 3
   },
   "file_extension": ".py",
   "mimetype": "text/x-python",
   "name": "python",
   "nbconvert_exporter": "python",
   "pygments_lexer": "ipython3",
   "version": "3.7.8"
  }
 },
 "nbformat": 4,
 "nbformat_minor": 2
}
